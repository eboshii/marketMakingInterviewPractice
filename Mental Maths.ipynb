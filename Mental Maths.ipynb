{
 "cells": [
  {
   "cell_type": "code",
   "execution_count": null,
   "id": "e696e52f",
   "metadata": {},
   "outputs": [],
   "source": [
    "import random\n",
    "import numpy as np"
   ]
  },
  {
   "cell_type": "code",
   "execution_count": null,
   "id": "fabe233f",
   "metadata": {},
   "outputs": [],
   "source": [
    "# Approximate the fraction to as many decimals as possible in 20 seconds\n",
    "def decimal():\n",
    "    numerator = random.randint(1,9)\n",
    "    denominator = random.randint(7,30)\n",
    "    guess = input(str(numerator) + '/' + str(denominator) + ' ')\n",
    "    print(guess)\n",
    "    print(numerator/denominator)"
   ]
  },
  {
   "cell_type": "code",
   "execution_count": null,
   "id": "2822d0f4",
   "metadata": {},
   "outputs": [],
   "source": [
    "# Multiplication of two digit numbers\n",
    "def multiples():\n",
    "    a = random.randint(10,99)\n",
    "    b = random.randint(10,99)\n",
    "    guess = input(str(a) + \"*\" + str(b) + \" \")\n",
    "    print(guess)\n",
    "    print(a*b)"
   ]
  },
  {
   "cell_type": "code",
   "execution_count": null,
   "id": "077dd811",
   "metadata": {},
   "outputs": [],
   "source": [
    "# Approximate the square root as closely as possible\n",
    "def sqrt():\n",
    "    num = random.randint(1,1000000)\n",
    "    guess = input('sqrt ' + str(num) + ' ')\n",
    "    print(int(np.sqrt(num)))\n",
    "    print(np.sqrt(num))"
   ]
  },
  {
   "cell_type": "code",
   "execution_count": null,
   "id": "f25226a2",
   "metadata": {
    "scrolled": false
   },
   "outputs": [],
   "source": [
    "while True:\n",
    "    c = random.randint(1,3)\n",
    "    if c == 1: decimal()\n",
    "    if c == 2: multiples()\n",
    "    if c == 3: sqrt()"
   ]
  }
 ],
 "metadata": {
  "kernelspec": {
   "display_name": "Python 3 (ipykernel)",
   "language": "python",
   "name": "python3"
  },
  "language_info": {
   "codemirror_mode": {
    "name": "ipython",
    "version": 3
   },
   "file_extension": ".py",
   "mimetype": "text/x-python",
   "name": "python",
   "nbconvert_exporter": "python",
   "pygments_lexer": "ipython3",
   "version": "3.7.11"
  }
 },
 "nbformat": 4,
 "nbformat_minor": 5
}
