{
 "cells": [
  {
   "cell_type": "code",
   "execution_count": null,
   "id": "0176f3fd",
   "metadata": {},
   "outputs": [],
   "source": [
    "import random\n",
    "import numpy as np\n",
    "import math"
   ]
  },
  {
   "cell_type": "markdown",
   "id": "80f85b3a",
   "metadata": {},
   "source": [
    "#### Card Sum Market Making\n",
    "\n",
    "cardExpectation(.. , ..):\n",
    "\n",
    "    1. cards: Provide a list of cards. e.g. 1-13 for all spades, or 4 of these sets for all cards etc\n",
    "    \n",
    "    2. n: The number of cards you draw from the list\n",
    "    \n",
    " Your task is to provide a market of the form n1:n2. Meaning you would buy at n1 and sell at n2. \n",
    " \n",
    " Your goal is to create the tightest market you can, as quickly as you can. Your market should be either side of the expected sum of the n cards, otherwise a rational agent will take your trade. If you don't get bought or sold, your market was good.\n",
    "\n",
    "This game is challenging. Linearity of expectation guides your first market, but you need to be able to adjust your market as more market information becomes available."
   ]
  },
  {
   "cell_type": "code",
   "execution_count": null,
   "id": "41353f95",
   "metadata": {},
   "outputs": [],
   "source": [
    "def expectation(remainingCards, existing, n):\n",
    "    return np.mean(remainingCards)*n + existing\n",
    "\n",
    "# Provide a list of cards. e.g. 1-13 for all spades, or 4 of these sets for all cards etc\n",
    "# n is the number of cards you draw from it\n",
    "# Provide a market of the form n1:n2 either side of the expectation\n",
    "def cardExpectation(cards, n):\n",
    "    revealed = []\n",
    "    for i in range(n):\n",
    "        e = expectation(cards, sum(revealed), n-i)\n",
    "        market = input(str(cards) +  str(revealed) + '\\n')\n",
    "        buy, sell = float(market.split(':')[0]), float(market.split(':')[1])\n",
    "        if e > sell: \n",
    "            print('You are bought')\n",
    "            print(e)\n",
    "        if e < buy: \n",
    "            print('You are sold')\n",
    "            print(e)\n",
    "        reveal = np.random.choice(cards)\n",
    "        cards = np.delete(cards, np.where(cards == reveal))\n",
    "        revealed.append(reveal)\n",
    "    print(str(cards) +  str(revealed) + '\\n')\n",
    "    print(sum(revealed))"
   ]
  },
  {
   "cell_type": "code",
   "execution_count": null,
   "id": "57eef7e7",
   "metadata": {},
   "outputs": [],
   "source": [
    "while True:\n",
    "    size = random.randint(2, 5)\n",
    "    print(size) # I take a random number of cards each game\n",
    "    cardExpectation(np.arange(1,14), size)\n",
    "    print()\n",
    "    print('----------------------')"
   ]
  },
  {
   "cell_type": "markdown",
   "id": "33b8aeaf",
   "metadata": {},
   "source": [
    "Similar game, except now you get 1 card revealed to you and the opponent gets 1 card revealed to them. There is asymmetric information. How will you make your market?\n",
    "\n",
    "You want to make the tightest market you can around expectation but you lack some information so perhaps you want a wider market."
   ]
  },
  {
   "cell_type": "code",
   "execution_count": null,
   "id": "630883f7",
   "metadata": {},
   "outputs": [],
   "source": [
    "def expectation(remainingCards, yourCard, existing, n):\n",
    "    return np.mean(np.append(remainingCards,yourCard))*n + existing\n",
    "\n",
    "# Provide a list of cards. e.g. 1-13 for all spades, or 4 of these sets for all cards etc\n",
    "def cardExpectationHidden(cards, n):\n",
    "    revealed = []\n",
    "    yourCard = np.random.choice(cards)\n",
    "    \n",
    "    theirCard = np.random.choice(cards)\n",
    "    while theirCard == yourCard:\n",
    "        theirCard = np.random.choice(cards)\n",
    "    cards = np.delete(cards, np.where(cards == theirCard))\n",
    "    \n",
    "    sells = []\n",
    "    buys = []\n",
    "    \n",
    "    for i in range(n-2):\n",
    "        e = expectation(cards, yourCard, theirCard + sum(revealed), n-i-1)\n",
    "        print(e)\n",
    "        print(theirCard)\n",
    "        cards = np.delete(cards, np.where(cards == yourCard))\n",
    "        market = input(str(['n' for _ in cards]) + '[' +  str(yourCard) + '][n]'+ str(revealed) + '\\n')\n",
    "        buy, sell = float(market.split(':')[0]), float(market.split(':')[1])\n",
    "        if e > sell: \n",
    "            print('You are bought')\n",
    "            sells.append(sell)\n",
    "        if e < buy: \n",
    "            print('You are sold')\n",
    "            buys.append(buy)\n",
    "        reveal = np.random.choice(cards)\n",
    "        cards = np.delete(cards, np.where(cards == reveal))\n",
    "        revealed.append(reveal)\n",
    "    total = sum(revealed) + yourCard + theirCard\n",
    "    print(revealed)\n",
    "    print(yourCard)\n",
    "    print(theirCard)\n",
    "    s = [total - si for si in sells]\n",
    "    b = [bi - total for bi in buys]\n",
    "    return sum(s) + sum(b)"
   ]
  },
  {
   "cell_type": "code",
   "execution_count": null,
   "id": "6962f722",
   "metadata": {},
   "outputs": [],
   "source": [
    "pot = 100\n",
    "print(pot)\n",
    "while True:\n",
    "    s = cardExpectationHidden(np.arange(1,14), 4) # Size is 4 here\n",
    "    print()\n",
    "    pot += s\n",
    "    print(pot)\n",
    "    print('-------------')\n",
    "    "
   ]
  },
  {
   "cell_type": "markdown",
   "id": "e84c13d9",
   "metadata": {},
   "source": [
    "You are offered a market by the opponent. Write b to buy (the higher price) and s to sell (the lower price).\n",
    "\n",
    "You should buy if the expectation of the sum of the n cards is above the range and sell if its below. "
   ]
  },
  {
   "cell_type": "code",
   "execution_count": null,
   "id": "33568576",
   "metadata": {},
   "outputs": [],
   "source": [
    "def expectation(remainingCards, existing, n):\n",
    "    return np.mean(remainingCards)*n + existing\n",
    "\n",
    "# Provide a list of cards. e.g. 1-13 for all spades, or 4 of these sets for all cards etc\n",
    "def cardExpectationMaker(cards, n):\n",
    "    revealed = []\n",
    "    for i in range(n):\n",
    "        e = expectation(cards, sum(revealed), n-i)\n",
    "        buy = math.floor(e) + np.random.choice([-4,-3,-2,-1,0,1,2,3,4])\n",
    "        sell = buy + np.random.choice([1,2,3,4,5])\n",
    "        print(str(buy) + ':' + str(sell))\n",
    "        market = input(str(cards) +  str(revealed) + '\\n')\n",
    "        if market == 'b':\n",
    "            if e > sell:\n",
    "                print('Correct')\n",
    "            else:\n",
    "                print('Wrong')\n",
    "                print(e)\n",
    "        elif market == 's':\n",
    "            if e < buy: print('Correct')\n",
    "            else: \n",
    "                print('Wrong')\n",
    "                print(e)\n",
    "        else:\n",
    "            if e >= buy and e <= sell:\n",
    "                print('Correct')\n",
    "            else:\n",
    "                print('Incorrect')\n",
    "                print(e)\n",
    "        print()\n",
    "        reveal = np.random.choice(cards)\n",
    "        cards = np.delete(cards, np.where(cards == reveal))\n",
    "        revealed.append(reveal)"
   ]
  },
  {
   "cell_type": "code",
   "execution_count": null,
   "id": "072fdb90",
   "metadata": {},
   "outputs": [],
   "source": [
    "while True:\n",
    "    cardExpectationMaker(np.arange(1,14), 5)\n",
    "    print()\n",
    "    print('----------------------')"
   ]
  }
 ],
 "metadata": {
  "kernelspec": {
   "display_name": "Python 3 (ipykernel)",
   "language": "python",
   "name": "python3"
  },
  "language_info": {
   "codemirror_mode": {
    "name": "ipython",
    "version": 3
   },
   "file_extension": ".py",
   "mimetype": "text/x-python",
   "name": "python",
   "nbconvert_exporter": "python",
   "pygments_lexer": "ipython3",
   "version": "3.7.11"
  }
 },
 "nbformat": 4,
 "nbformat_minor": 5
}
